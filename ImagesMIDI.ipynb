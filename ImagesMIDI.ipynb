{
  "cells": [
    {
      "cell_type": "markdown",
      "source": [
        "Hi! This notebook takes in frames of an animation, and transform it into one long continuous MIDI file.\n",
        "\n",
        "Example: https://www.youtube.com/watch?v=httcXndMcFY\n",
        "\n",
        "Let me know if you're not sure where to change to make this work on your video.\n",
        "\n",
        "-- Punji"
      ],
      "metadata": {
        "id": "h0ooNmhL_eRh"
      }
    },
    {
      "cell_type": "code",
      "execution_count": null,
      "metadata": {
        "colab": {
          "base_uri": "https://localhost:8080/"
        },
        "id": "57xnC7AZnJkF",
        "outputId": "c911f7df-99d7-4db0-8829-d04d95fb6e1f"
      },
      "outputs": [
        {
          "name": "stdout",
          "output_type": "stream",
          "text": [
            "Looking in indexes: https://pypi.org/simple, https://us-python.pkg.dev/colab-wheels/public/simple/\n",
            "Collecting mido\n",
            "  Downloading mido-1.2.10-py2.py3-none-any.whl (51 kB)\n",
            "\u001b[K     |████████████████████████████████| 51 kB 3.2 MB/s \n",
            "\u001b[?25hInstalling collected packages: mido\n",
            "Successfully installed mido-1.2.10\n"
          ]
        }
      ],
      "source": [
        "pip install mido"
      ]
    },
    {
      "cell_type": "code",
      "execution_count": null,
      "metadata": {
        "colab": {
          "base_uri": "https://localhost:8080/"
        },
        "id": "_uZTxWcpoEbs",
        "outputId": "e4f91ad3-7820-4bc6-8f65-06f183d122aa"
      },
      "outputs": [
        {
          "name": "stdout",
          "output_type": "stream",
          "text": [
            "Looking in indexes: https://pypi.org/simple, https://us-python.pkg.dev/colab-wheels/public/simple/\n",
            "Collecting pypianoroll\n",
            "  Downloading pypianoroll-1.0.4-py3-none-any.whl (26 kB)\n",
            "Requirement already satisfied: numpy>=1.12.0 in /usr/local/lib/python3.8/dist-packages (from pypianoroll) (1.21.6)\n",
            "Collecting pretty-midi>=0.2.8\n",
            "  Downloading pretty_midi-0.2.9.tar.gz (5.6 MB)\n",
            "\u001b[K     |████████████████████████████████| 5.6 MB 7.6 MB/s \n",
            "\u001b[?25hRequirement already satisfied: matplotlib>=1.5 in /usr/local/lib/python3.8/dist-packages (from pypianoroll) (3.2.2)\n",
            "Requirement already satisfied: scipy>=1.0.0 in /usr/local/lib/python3.8/dist-packages (from pypianoroll) (1.7.3)\n",
            "Requirement already satisfied: pyparsing!=2.0.4,!=2.1.2,!=2.1.6,>=2.0.1 in /usr/local/lib/python3.8/dist-packages (from matplotlib>=1.5->pypianoroll) (3.0.9)\n",
            "Requirement already satisfied: python-dateutil>=2.1 in /usr/local/lib/python3.8/dist-packages (from matplotlib>=1.5->pypianoroll) (2.8.2)\n",
            "Requirement already satisfied: kiwisolver>=1.0.1 in /usr/local/lib/python3.8/dist-packages (from matplotlib>=1.5->pypianoroll) (1.4.4)\n",
            "Requirement already satisfied: cycler>=0.10 in /usr/local/lib/python3.8/dist-packages (from matplotlib>=1.5->pypianoroll) (0.11.0)\n",
            "Requirement already satisfied: mido>=1.1.16 in /usr/local/lib/python3.8/dist-packages (from pretty-midi>=0.2.8->pypianoroll) (1.2.10)\n",
            "Requirement already satisfied: six in /usr/local/lib/python3.8/dist-packages (from pretty-midi>=0.2.8->pypianoroll) (1.15.0)\n",
            "Building wheels for collected packages: pretty-midi\n",
            "  Building wheel for pretty-midi (setup.py) ... \u001b[?25l\u001b[?25hdone\n",
            "  Created wheel for pretty-midi: filename=pretty_midi-0.2.9-py3-none-any.whl size=5591954 sha256=4d140abac4372551c4555b06abb8f8202c67f143cc556a2a7a1fbdff91d6d10c\n",
            "  Stored in directory: /root/.cache/pip/wheels/2a/5a/e3/30eeb9a99350f3f7e21258fcb132743eef1a4f49b3505e76b6\n",
            "Successfully built pretty-midi\n",
            "Installing collected packages: pretty-midi, pypianoroll\n",
            "Successfully installed pretty-midi-0.2.9 pypianoroll-1.0.4\n"
          ]
        }
      ],
      "source": [
        "pip install pypianoroll"
      ]
    },
    {
      "cell_type": "code",
      "execution_count": null,
      "metadata": {
        "id": "SDRFs0fml7Yw"
      },
      "outputs": [],
      "source": [
        "import mido\n",
        "from mido import Message, MidiFile, MidiTrack\n",
        "import pypianoroll\n",
        "from PIL import Image\n",
        "from torchvision import transforms\n",
        "import numpy as np\n",
        "import matplotlib.pyplot as plt\n",
        "from tqdm import tqdm"
      ]
    },
    {
      "cell_type": "code",
      "execution_count": null,
      "metadata": {
        "id": "rWy8z2pFz9hE"
      },
      "outputs": [],
      "source": [
        "def imageTransformer(image):\n",
        "    train_transform = transforms.Compose([\n",
        "    transforms.Resize((88,120)),\n",
        "    transforms.ToTensor()\n",
        "    ])\n",
        "    \n",
        "    return train_transform(image)"
      ]
    },
    {
      "cell_type": "code",
      "execution_count": null,
      "metadata": {
        "id": "q3zv1IVJSfgY"
      },
      "outputs": [],
      "source": [
        "def numpyToMidi(mid, arr, startDelta):\n",
        "  on = [False for i in range(88)]\n",
        "  deltaTime = startDelta\n",
        "  for time in range(120):\n",
        "    hadAnEvent = False\n",
        "    for pitch in range(88):\n",
        "      if arr[87-pitch][time] < 0.5:\n",
        "        \n",
        "        #Check if the note ends\n",
        "        if on[pitch]:\n",
        "          mid.tracks[0].append(Message('note_off', note=pitch, velocity=64, time=deltaTime))\n",
        "          if not hadAnEvent: \n",
        "            hadAnEvent = True\n",
        "            deltaTime = 0\n",
        "\n",
        "        on[pitch] = False\n",
        "\n",
        "      elif arr[87-pitch][time] >= 0.5:\n",
        "\n",
        "        #Check if the note starts\n",
        "        if not on[pitch]: \n",
        "          mid.tracks[0].append(Message('note_on', note=pitch, velocity=64, time=deltaTime))\n",
        "          if not hadAnEvent: \n",
        "            hadAnEvent = True\n",
        "            deltaTime = 0\n",
        "\n",
        "        on[pitch] = True\n",
        "    \n",
        "    deltaTime += 16\n",
        "\n",
        "  happened = False\n",
        "  for pitch in range(88):\n",
        "    if on[pitch]: \n",
        "      mid.tracks[0].append(Message('note_off', note=pitch, velocity=64, time=deltaTime))\n",
        "      if not happened:\n",
        "        deltaTime = 0\n",
        "        happened = True\n",
        "      on[pitch] = False\n",
        "  \n",
        "  return deltaTime"
      ]
    },
    {
      "cell_type": "code",
      "execution_count": null,
      "metadata": {
        "id": "ZlRM7ya95dsA"
      },
      "outputs": [],
      "source": [
        "def imagesToMidi():\n",
        "  mid = MidiFile()\n",
        "  track = MidiTrack()\n",
        "  mid.tracks.append(track)\n",
        "\n",
        "  deltaTime = 0\n",
        "  for frame in tqdm(range(6562)):\n",
        "    fileName = f\"/content/drive/MyDrive/bad_apple_is/bad_apple_{trueIndex(frame)}.png\"\n",
        "    img = imageTransformer(Image.open(fileName)).numpy().reshape((88,120))\n",
        "    finalImg = np.where(img > 0.5, 1, 0)\n",
        "\n",
        "    deltaTime = numpyToMidi(mid, finalImg, deltaTime)\n",
        "\n",
        "  return mid\n"
      ]
    },
    {
      "cell_type": "code",
      "execution_count": null,
      "metadata": {
        "colab": {
          "base_uri": "https://localhost:8080/",
          "height": 824
        },
        "id": "L4zka9q60T2S",
        "outputId": "7cd685e2-1cd7-4466-b06f-3793370466a3"
      },
      "outputs": [
        {
          "name": "stdout",
          "output_type": "stream",
          "text": [
            "480\n"
          ]
        },
        {
          "data": {
            "text/plain": [
              "[<matplotlib.axes._subplots.AxesSubplot at 0x7f4711a37a30>]"
            ]
          },
          "execution_count": 9,
          "metadata": {},
          "output_type": "execute_result"
        },
        {
          "data": {
            "image/png": "[encoded data removed]",
            "text/plain": [
              "<Figure size 432x288 with 1 Axes>"
            ]
          },
          "metadata": {},
          "output_type": "display_data"
        },
        {
          "data": {
            "image/png": "[encoded data removed]",
            "text/plain": [
              "<Figure size 432x288 with 1 Axes>"
            ]
          },
          "metadata": {},
          "output_type": "display_data"
        },
        {
          "data": {
            "image/png": "[encoded data removed]",
            "text/plain": [
              "<Figure size 432x288 with 1 Axes>"
            ]
          },
          "metadata": {},
          "output_type": "display_data"
        }
      ],
      "source": [
        "#THIS CELL IS FOR DEBUGGING\n",
        "sampleImg = imageTransformer(Image.open(\"/content/drive/MyDrive/bad_apple_is/bad_apple_1215.png\")).numpy().reshape((88,120))\n",
        "sampleFinal = np.where(sampleImg > 0.5, 1, 0)\n",
        "plt.imshow(sampleFinal, cmap=\"gray\")\n",
        "\n",
        "\n",
        "sampleMid = MidiFile()\n",
        "print(sampleMid.ticks_per_beat)\n",
        "sampleTrack = MidiTrack()\n",
        "sampleMid.tracks.append(sampleTrack)\n",
        "\n",
        "numpyToMidi(sampleMid, sampleFinal, 0)\n",
        "\n",
        "sampleMid.save('new_song.mid')\n",
        "\n",
        "ppr = pypianoroll.read('new_song.mid')\n",
        "ppr.plot()\n",
        "\n",
        "numpyToMidi(sampleMid, sampleFinal, 0)\n",
        "\n",
        "sampleMid.save('new_song.mid')\n",
        "\n",
        "ppr = pypianoroll.read('new_song.mid')\n",
        "ppr.plot()"
      ]
    },
    {
      "cell_type": "code",
      "execution_count": null,
      "metadata": {
        "colab": {
          "base_uri": "https://localhost:8080/"
        },
        "id": "TsgbQ_T3d5_6",
        "outputId": "fefdf550-fec4-4339-fb11-fd20373cb5e1"
      },
      "outputs": [
        {
          "name": "stdout",
          "output_type": "stream",
          "text": [
            "Drive already mounted at /content/drive; to attempt to forcibly remount, call drive.mount(\"/content/drive\", force_remount=True).\n"
          ]
        }
      ],
      "source": [
        "from google.colab import drive\n",
        "drive.mount('/content/drive')"
      ]
    },
    {
      "cell_type": "code",
      "execution_count": null,
      "metadata": {
        "id": "ALF5TRUpeNjJ"
      },
      "outputs": [],
      "source": [
        "def trueIndex(number):\n",
        "  if number + 1 < 10:\n",
        "    return \"00\" + str(number + 1)\n",
        "  elif number + 1 < 100:\n",
        "    return \"0\" + str(number + 1)\n",
        "  else:\n",
        "    return number + 1"
      ]
    },
    {
      "cell_type": "code",
      "execution_count": null,
      "metadata": {
        "colab": {
          "background_save": true,
          "base_uri": "https://localhost:8080/"
        },
        "id": "SNDbQf69etSq",
        "outputId": "6927bb3e-63da-4bc8-cf55-efd0f83d0495"
      },
      "outputs": [
        {
          "name": "stderr",
          "output_type": "stream",
          "text": [
            "100%|██████████| 6562/6562 [26:16<00:00,  4.16it/s]\n"
          ]
        }
      ],
      "source": [
        "# 6562 frames in total\n",
        "\n",
        "\n",
        "\n",
        "imagesToMidi().save('new_song.mid')\n"
      ]
    }
  ],
  "metadata": {
    "colab": {
      "provenance": []
    },
    "kernelspec": {
      "display_name": "Python 3",
      "name": "python3"
    },
    "language_info": {
      "name": "python"
    }
  },
  "nbformat": 4,
  "nbformat_minor": 0
}